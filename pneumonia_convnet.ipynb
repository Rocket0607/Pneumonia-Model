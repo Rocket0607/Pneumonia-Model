{
 "cells": [
  {
   "cell_type": "code",
   "execution_count": 2,
   "metadata": {},
   "outputs": [
    {
     "name": "stdout",
     "output_type": "stream",
     "text": [
      "Train on 5256 samples, validate on 584 samples\n",
      "Epoch 1/5\n",
      "5256/5256 [==============================] - 63s 12ms/sample - loss: 0.2451 - accuracy: 0.8929 - val_loss: 0.1463 - val_accuracy: 0.9572\n",
      "Epoch 2/5\n",
      "5256/5256 [==============================] - 79s 15ms/sample - loss: 0.1508 - accuracy: 0.9439 - val_loss: 0.1579 - val_accuracy: 0.9521\n",
      "Epoch 3/5\n",
      "5256/5256 [==============================] - 68s 13ms/sample - loss: 0.1268 - accuracy: 0.9509 - val_loss: 0.1142 - val_accuracy: 0.9589\n",
      "Epoch 4/5\n",
      "5256/5256 [==============================] - 69s 13ms/sample - loss: 0.1084 - accuracy: 0.9599 - val_loss: 0.1196 - val_accuracy: 0.9640\n",
      "Epoch 5/5\n",
      "5256/5256 [==============================] - 70s 13ms/sample - loss: 0.0986 - accuracy: 0.9612 - val_loss: 0.1209 - val_accuracy: 0.9606\n"
     ]
    },
    {
     "data": {
      "text/plain": [
       "<tensorflow.python.keras.callbacks.History at 0x220834ff588>"
      ]
     },
     "execution_count": 2,
     "metadata": {},
     "output_type": "execute_result"
    }
   ],
   "source": [
    "import tensorflow as tf\n",
    "from tensorflow.keras.models import Sequential\n",
    "from tensorflow.keras.layers import Dense, Dropout, Flatten, Activation, Conv2D, MaxPooling2D\n",
    "from tensorflow.keras.callbacks import TensorBoard\n",
    "import pickle\n",
    "\n",
    "NAME  = \"Pneumonia-Model-W-5-Epochs-Restarted\"\n",
    "\n",
    "tensorboard = TensorBoard(log_dir = f\"logs\\{NAME}\")\n",
    "\n",
    "X = pickle.load(open(\"X.pickle\", \"rb\"))\n",
    "y = pickle.load(open(\"y.pickle\", \"rb\"))\n",
    "\n",
    "X = X/255.0\n",
    "\n",
    "model = Sequential([\n",
    "    Conv2D(64, (3, 3), input_shape = (100,100,1)),\n",
    "    Activation(\"relu\"),\n",
    "    MaxPooling2D(pool_size = (2, 2)),\n",
    "    \n",
    "    Conv2D(64, (3, 3)),\n",
    "    Activation(\"relu\"),\n",
    "    MaxPooling2D(pool_size = (2, 2)),\n",
    "    \n",
    "    Flatten(),\n",
    "    Dense(64),\n",
    "    Activation(\"relu\"),\n",
    "    \n",
    "    Dense(1),\n",
    "    Activation(\"sigmoid\")  \n",
    "])\n",
    "\n",
    "model.compile(optimizer = \"adam\", \n",
    "              loss = \"binary_crossentropy\", \n",
    "              metrics = ([\"accuracy\"]))\n",
    "model.fit(X, y, batch_size = 15, epochs = 5, validation_split = 0.1, callbacks = [tensorboard])"
   ]
  },
  {
   "cell_type": "code",
   "execution_count": 1,
   "metadata": {},
   "outputs": [
    {
     "ename": "NameError",
     "evalue": "name 'X' is not defined",
     "output_type": "error",
     "traceback": [
      "\u001b[1;31m---------------------------------------------------------------------------\u001b[0m",
      "\u001b[1;31mNameError\u001b[0m                                 Traceback (most recent call last)",
      "\u001b[1;32m<ipython-input-1-f646c98c0927>\u001b[0m in \u001b[0;36m<module>\u001b[1;34m\u001b[0m\n\u001b[1;32m----> 1\u001b[1;33m \u001b[0mprint\u001b[0m\u001b[1;33m(\u001b[0m\u001b[0mX\u001b[0m\u001b[1;33m.\u001b[0m\u001b[0mshape\u001b[0m\u001b[1;33m[\u001b[0m\u001b[1;33m:\u001b[0m\u001b[1;36m1\u001b[0m\u001b[1;33m]\u001b[0m\u001b[1;33m)\u001b[0m\u001b[1;33m\u001b[0m\u001b[1;33m\u001b[0m\u001b[0m\n\u001b[0m",
      "\u001b[1;31mNameError\u001b[0m: name 'X' is not defined"
     ]
    }
   ],
   "source": []
  }
 ],
 "metadata": {
  "kernelspec": {
   "display_name": "Python 3.7.6 64-bit",
   "language": "python",
   "name": "python37664bit235d7d44b9704255960254114f1e87a2"
  },
  "language_info": {
   "codemirror_mode": {
    "name": "ipython",
    "version": 3
   },
   "file_extension": ".py",
   "mimetype": "text/x-python",
   "name": "python",
   "nbconvert_exporter": "python",
   "pygments_lexer": "ipython3",
   "version": "3.7.7"
  }
 },
 "nbformat": 4,
 "nbformat_minor": 4
}
